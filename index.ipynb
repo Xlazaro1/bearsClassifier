from fastai.vision.widgets import *
from fastbook import *
!pip install voila
!jupyter serverextension enable --sys-prefix voila
key = os.environ.get('AZURE_SEARCH_KEY', '2a0e6cfb544e42ccbcbde5a25354d178')
skin_types = 'black','asian','white'
path = Path('skin')
if not path.exists():
    path.mkdir()
    for o in skin_types:
        dest = (path/o)
        dest.mkdir(exist_ok=True)
        results = search_images_bing(key, f'{o} skin')
        download_images(dest, urls=results.attrgot('contentUrl'))
fns = get_image_files(path)
fns
failed = verify_images(fns)
failed
failed.map(Path.unlink);
skins = DataBlock(
    blocks=(ImageBlock, CategoryBlock), 
    get_items=get_image_files, 
    splitter=RandomSplitter(valid_pct=0.2, seed=42),
    get_y=parent_label,
    item_tfms=RandomResizedCrop(224, min_scale=0.5),
    batch_tfms=aug_transforms())
dls = skins.dataloaders(path)
dls.train.show_batch (max_n=8, nrows=2)
dls.valid.show_batch (max_n=8, nrows=2)
learn = vision_learner(dls, resnet18, metrics=error_rate)
learn.fine_tune(5)
interp = ClassificationInterpretation.from_learner(learn)
interp.plot_confusion_matrix()
interp.plot_top_losses(5, nrows=1)
learn.export()
path = Path()
path.ls(file_exts='.pkl')
learn_inf = load_learner(path/'export.pkl')
response = requests.get("https://thesilverlab.es/wp-content/uploads/2021/09/Mentor_Ana-Lorente_.jpg")
file = open("Ana.jpg", "wb")
file.write(response.content)
file.close()
path.ls(file_exts='.jpg')
learn_inf.dls.vocab
img = PILImage.create ('Ana.jpg')
pred,pred_idx,probs = learn_inf.predict(img)
lbl_pred = widgets.Label()
lbl_pred.value = f'Predicction: {pred}; Probability: {probs[pred_idx]:.04f}'
lbl_pred
img
